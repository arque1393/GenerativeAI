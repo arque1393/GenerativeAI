{
 "cells": [
  {
   "cell_type": "markdown",
   "metadata": {},
   "source": [
    "## Embedding,  Vector Database Vector Search"
   ]
  },
  {
   "cell_type": "markdown",
   "metadata": {},
   "source": [
    "#### Use Case of Vector Database \n",
    "- Similarity Search: Text, images, audio \n",
    "    - De Duplication \n",
    "    - Semantic match rather than keyword match \n",
    "    - Very useful of knowledge base Q/A\n",
    "- Recommendation Engines \n",
    "- Finding Security Threads \n",
    "    - Vectorizing virus binaries and finding anomalies "
   ]
  },
  {
   "cell_type": "markdown",
   "metadata": {},
   "source": [
    "### Vector Search Strategies \n",
    "- Exact Search \n",
    "    - K-Nearest Neighbor \n",
    "- Approximate Search\n",
    "    - Approximate Nearest Neighbor \n",
    "        - Trade accuracy for speed gains \n",
    "        - Example of Speed Indexing Algorithm \n",
    "            -   Tree Based ANNOY by Spotify \n",
    "            - Proximity Graphs : HNSW \n",
    "            - Clustering : FAISS by facebook \n",
    "            - Hashing : LSH \n",
    "            - Vector Compression :SCaNN by google \n",
    "\n"
   ]
  },
  {
   "cell_type": "markdown",
   "metadata": {},
   "source": [
    "#### Hoe measure Two Vector is similar or not ? \n",
    "- Distance Matrix \n",
    "- Similarity Matrix "
   ]
  },
  {
   "cell_type": "markdown",
   "metadata": {},
   "source": [
    "FAISS : Face book AI Similarity Search \n",
    "HNSW : Hierarchical Navigation Small Worlds \n"
   ]
  },
  {
   "cell_type": "markdown",
   "metadata": {},
   "source": [
    "\n",
    "### Filtering "
   ]
  },
  {
   "cell_type": "markdown",
   "metadata": {},
   "source": []
  }
 ],
 "metadata": {
  "language_info": {
   "name": "python"
  }
 },
 "nbformat": 4,
 "nbformat_minor": 2
}
